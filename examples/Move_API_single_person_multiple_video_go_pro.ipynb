{
 "cells": [
  {
   "cell_type": "markdown",
   "id": "76b64427-e9bf-4cfb-9552-4d8e959184ab",
   "metadata": {},
   "source": [
    "# Prequisites"
   ]
  },
  {
   "cell_type": "code",
   "execution_count": 1,
   "id": "f8bd587b-f981-4789-8cfb-dfed4e9eeb01",
   "metadata": {
    "scrolled": true
   },
   "outputs": [
    {
     "name": "stdout",
     "output_type": "stream",
     "text": [
      "Looking in indexes: https://pypi.python.org/simple\n",
      "Requirement already satisfied: move-ugc-python in /home/deepak/.pyenv/versions/3.11.10/lib/python3.11/site-packages (1.4.1)\n",
      "Requirement already satisfied: gql<4.0.0,>=3.4.1 in /home/deepak/.pyenv/versions/3.11.10/lib/python3.11/site-packages (from gql[requests]<4.0.0,>=3.4.1->move-ugc-python) (3.5.0)\n",
      "Requirement already satisfied: pydantic<3.0.0,>=2.5.3 in /home/deepak/.pyenv/versions/3.11.10/lib/python3.11/site-packages (from move-ugc-python) (2.9.2)\n",
      "Requirement already satisfied: pydantic-settings<3.0.0,>=2.2.1 in /home/deepak/.pyenv/versions/3.11.10/lib/python3.11/site-packages (from move-ugc-python) (2.5.2)\n",
      "Requirement already satisfied: graphql-core<3.3,>=3.2 in /home/deepak/.pyenv/versions/3.11.10/lib/python3.11/site-packages (from gql<4.0.0,>=3.4.1->gql[requests]<4.0.0,>=3.4.1->move-ugc-python) (3.2.4)\n",
      "Requirement already satisfied: yarl<2.0,>=1.6 in /home/deepak/.pyenv/versions/3.11.10/lib/python3.11/site-packages (from gql<4.0.0,>=3.4.1->gql[requests]<4.0.0,>=3.4.1->move-ugc-python) (1.13.1)\n",
      "Requirement already satisfied: backoff<3.0,>=1.11.1 in /home/deepak/.pyenv/versions/3.11.10/lib/python3.11/site-packages (from gql<4.0.0,>=3.4.1->gql[requests]<4.0.0,>=3.4.1->move-ugc-python) (2.2.1)\n",
      "Requirement already satisfied: anyio<5,>=3.0 in /home/deepak/.pyenv/versions/3.11.10/lib/python3.11/site-packages (from gql<4.0.0,>=3.4.1->gql[requests]<4.0.0,>=3.4.1->move-ugc-python) (4.6.0)\n",
      "Requirement already satisfied: requests<3,>=2.26 in /home/deepak/.pyenv/versions/3.11.10/lib/python3.11/site-packages (from gql[requests]<4.0.0,>=3.4.1->move-ugc-python) (2.32.3)\n",
      "Requirement already satisfied: requests-toolbelt<2,>=1.0.0 in /home/deepak/.pyenv/versions/3.11.10/lib/python3.11/site-packages (from gql[requests]<4.0.0,>=3.4.1->move-ugc-python) (1.0.0)\n",
      "Requirement already satisfied: annotated-types>=0.6.0 in /home/deepak/.pyenv/versions/3.11.10/lib/python3.11/site-packages (from pydantic<3.0.0,>=2.5.3->move-ugc-python) (0.7.0)\n",
      "Requirement already satisfied: pydantic-core==2.23.4 in /home/deepak/.pyenv/versions/3.11.10/lib/python3.11/site-packages (from pydantic<3.0.0,>=2.5.3->move-ugc-python) (2.23.4)\n",
      "Requirement already satisfied: typing-extensions>=4.6.1 in /home/deepak/.local/lib/python3.11/site-packages (from pydantic<3.0.0,>=2.5.3->move-ugc-python) (4.12.2)\n",
      "Requirement already satisfied: python-dotenv>=0.21.0 in /home/deepak/.pyenv/versions/3.11.10/lib/python3.11/site-packages (from pydantic-settings<3.0.0,>=2.2.1->move-ugc-python) (1.0.1)\n",
      "Requirement already satisfied: idna>=2.8 in /home/deepak/.pyenv/versions/3.11.10/lib/python3.11/site-packages (from anyio<5,>=3.0->gql<4.0.0,>=3.4.1->gql[requests]<4.0.0,>=3.4.1->move-ugc-python) (3.10)\n",
      "Requirement already satisfied: sniffio>=1.1 in /home/deepak/.pyenv/versions/3.11.10/lib/python3.11/site-packages (from anyio<5,>=3.0->gql<4.0.0,>=3.4.1->gql[requests]<4.0.0,>=3.4.1->move-ugc-python) (1.3.1)\n",
      "Requirement already satisfied: charset-normalizer<4,>=2 in /home/deepak/.pyenv/versions/3.11.10/lib/python3.11/site-packages (from requests<3,>=2.26->gql[requests]<4.0.0,>=3.4.1->move-ugc-python) (3.3.2)\n",
      "Requirement already satisfied: urllib3<3,>=1.21.1 in /home/deepak/.pyenv/versions/3.11.10/lib/python3.11/site-packages (from requests<3,>=2.26->gql[requests]<4.0.0,>=3.4.1->move-ugc-python) (2.2.3)\n",
      "Requirement already satisfied: certifi>=2017.4.17 in /home/deepak/.pyenv/versions/3.11.10/lib/python3.11/site-packages (from requests<3,>=2.26->gql[requests]<4.0.0,>=3.4.1->move-ugc-python) (2024.8.30)\n",
      "Requirement already satisfied: multidict>=4.0 in /home/deepak/.pyenv/versions/3.11.10/lib/python3.11/site-packages (from yarl<2.0,>=1.6->gql<4.0.0,>=3.4.1->gql[requests]<4.0.0,>=3.4.1->move-ugc-python) (6.1.0)\n",
      "\n",
      "\u001b[1m[\u001b[0m\u001b[34;49mnotice\u001b[0m\u001b[1;39;49m]\u001b[0m\u001b[39;49m A new release of pip is available: \u001b[0m\u001b[31;49m24.1.2\u001b[0m\u001b[39;49m -> \u001b[0m\u001b[32;49m24.2\u001b[0m\n",
      "\u001b[1m[\u001b[0m\u001b[34;49mnotice\u001b[0m\u001b[1;39;49m]\u001b[0m\u001b[39;49m To update, run: \u001b[0m\u001b[32;49mpip install --upgrade pip\u001b[0m\n",
      "Note: you may need to restart the kernel to use updated packages.\n"
     ]
    }
   ],
   "source": [
    "%pip install move-ugc-python"
   ]
  },
  {
   "cell_type": "markdown",
   "id": "e55a29ea-0282-444c-b337-fb53976c94e7",
   "metadata": {},
   "source": [
    "# Import all requires modules"
   ]
  },
  {
   "cell_type": "code",
   "execution_count": 42,
   "id": "9c302774-9f5c-4779-bbbe-b42e19a5517a",
   "metadata": {},
   "outputs": [],
   "source": [
    "from datetime import datetime\n",
    "import os\n",
    "from pathlib import Path\n",
    "import time\n",
    "import requests\n",
    "from move_ugc import MoveUgc\n",
    "from move_ugc.schemas.sources import SourceIn\n",
    "from move_ugc.schemas.sync_method import SyncMethodInput\n",
    "from move_ugc.schemas.volume import AreaType"
   ]
  },
  {
   "cell_type": "markdown",
   "id": "04b3953c-233f-47b9-ba8e-045604cb572f",
   "metadata": {},
   "source": [
    "# Declare utility functions"
   ]
  },
  {
   "cell_type": "code",
   "execution_count": 43,
   "id": "0d716352-0adc-43bb-8a7a-252fcadb62e6",
   "metadata": {},
   "outputs": [],
   "source": [
    "class MoveAI:\n",
    "    \"\"\"MoveAI UGC utility class.\"\"\"\n",
    "\n",
    "    def __init__(self, api_key, endpoint_url=None) -> None:\n",
    "        \"\"\"Initialize MoveAI UGC utility class.\n",
    "\n",
    "        Args:\n",
    "            api_key: API key.\n",
    "            endpoint_url: Endpoint\n",
    "        \"\"\"\n",
    "        self.api_key = api_key\n",
    "        if endpoint_url is None:\n",
    "            endpoint_url = 'https://api.move.ai/ugc/graphql'\n",
    "        self.endpoint_url = endpoint_url\n",
    "        self.client = MoveUgc(api_key=api_key, endpoint_url=endpoint_url)\n",
    "\n",
    "    def create_files(self, video_path: str) -> str:\n",
    "        \"\"\"Create a file in MoveUGC.\n",
    "\n",
    "        Args:\n",
    "            video_path: Path to the video file.\n",
    "\n",
    "        Returns:\n",
    "            str: File ID.\n",
    "        \"\"\"\n",
    "        video_file = self.client.files.create(file_type=\"mp4\")\n",
    "\n",
    "        with open(video_path, 'rb') as f:\n",
    "            requests.put(video_file.presigned_url, data=f.read())\n",
    "\n",
    "        return video_file.id\n",
    "\n",
    "    def create_volume(\n",
    "        self, sources, human_height: float, name=None, metadata=None,\n",
    "    ):\n",
    "        \"\"\"Create a new volume.\n",
    "\n",
    "        Args:\n",
    "            sources: List of sources.\n",
    "            human_height: Human height.\n",
    "            name: Name of the volume.\n",
    "            metadata: Metadata.\n",
    "\n",
    "        Returns:\n",
    "            VolumeType\n",
    "        \"\"\"\n",
    "        if metadata is None:\n",
    "            metadata = {\"test\": \"test\"}\n",
    "        return self.client.volumes.create_human_volume(\n",
    "            sources=sources,\n",
    "            name=name,\n",
    "            metadata=metadata,\n",
    "            human_height=human_height,\n",
    "            area_type=AreaType.NORMAL,\n",
    "        )\n",
    "\n",
    "    def get_volume(self, volume_id: str):\n",
    "        \"\"\"Retrieve volume.\n",
    "\n",
    "        Args:\n",
    "            VolumeType\n",
    "        \"\"\"\n",
    "        return self.client.volumes.retrieve_human_volume(id=volume_id)\n",
    "\n",
    "    def create_take(self, sources, volume_id: str, sync_method, name=None, metadata=None) -> str:\n",
    "        \"\"\"Create a new take.\n",
    "\n",
    "        Args:\n",
    "            sources: List of sources.\n",
    "            volume_id: Volume ID.\n",
    "            name: Name of the take.\n",
    "            metadata: Metadata.\n",
    "\n",
    "        Returns:\n",
    "            str: Take ID.\n",
    "        \"\"\"\n",
    "        if metadata is None:\n",
    "            metadata = {\"test\": \"test\"}\n",
    "        return self.client.takes.create_multicam(\n",
    "            volume_id=volume_id,\n",
    "            sources=sources,\n",
    "            metadata=metadata,\n",
    "            name=name,\n",
    "            sync_method=sync_method,\n",
    "        ).id\n",
    "\n",
    "    def create_job(\n",
    "        self, take_id: str, number_of_actors: str, name=None, metadata=None,\n",
    "    ):\n",
    "        \"\"\"Create a new multicam job.\n",
    "\n",
    "        Args:\n",
    "            take_id: Take ID.\n",
    "            number_of_actors: Number of actors.\n",
    "            name: Name of the job.\n",
    "            metadata: Metadata.\n",
    "\n",
    "        Returns:\n",
    "            JobType.\n",
    "        \"\"\"\n",
    "        return self.client.jobs.create_multicam(\n",
    "            take_id=take_id, number_of_actors=number_of_actors, metadata={\"test\": \"test_job\"},\n",
    "        )\n",
    "\n",
    "    def get_job(self, job_id, expand=False):\n",
    "        # Get a job using the Move One Public API\n",
    "        # Implement job retrieval logic using move_ugc_python SDK\n",
    "        if expand is False:\n",
    "            job = self.client.jobs.retrieve(id=job_id)\n",
    "        else:\n",
    "            job = self.client.jobs.retrieve(\n",
    "                id=job_id, expand=[\"take\", \"outputs\", \"client\"]\n",
    "            )\n",
    "        return job\n",
    "    \n",
    "    def download_outputs(self, job_id, output_dir, output_name):\n",
    "        # make output dir if it doesn't exist\n",
    "        if not os.path.exists(output_dir):\n",
    "            os.makedirs(output_dir)\n",
    "        # get job\n",
    "        job = self.get_job(job_id, expand=True)\n",
    "        # for each output download the file in the output_dir\n",
    "        output_paths = []\n",
    "        for output in job.outputs:\n",
    "            output_file_name = f\"{output_name}{output.file.type}\"\n",
    "            output_path = os.path.join(output_dir, output_file_name)\n",
    "            with open(output_path, 'wb') as f:\n",
    "                response = requests.get(output.file.presigned_url)\n",
    "                f.write(response.content)\n",
    "            output_paths.append(output_path)\n",
    "        return output_paths"
   ]
  },
  {
   "cell_type": "markdown",
   "id": "eae13c53-1ba6-42bf-ba8f-0b1b03d7a4aa",
   "metadata": {},
   "source": [
    "# Instantiate utility class"
   ]
  },
  {
   "cell_type": "code",
   "execution_count": 44,
   "id": "94a08b16-5f14-4d8a-8296-e3a7fafd3dc0",
   "metadata": {},
   "outputs": [],
   "source": [
    "client = MoveAI(os.environ.get('MOVE_API_KEY', '<Your Move AI API key if it is not set as environment variable>'))\n",
    "if not client.api_key or client.api_key == '<Your Move AI API key if it is not set as environment variable>':\n",
    "    raise ValueError('Please set the MOVE_API_KEY environment variable or pass it as an argument to MoveAI')"
   ]
  },
  {
   "cell_type": "markdown",
   "id": "fb825620-6a89-481b-9041-4015d086010e",
   "metadata": {},
   "source": [
    "# Create volume"
   ]
  },
  {
   "cell_type": "markdown",
   "id": "c7b2991e-5df8-47dc-9c40-255c0574bbee",
   "metadata": {},
   "source": [
    "## 1. Create required video files for volumes "
   ]
  },
  {
   "cell_type": "code",
   "execution_count": 46,
   "id": "495a791f-d6c3-4182-8792-c8bb9b01e0cd",
   "metadata": {},
   "outputs": [],
   "source": [
    "sources = []\n",
    "# Create two files\n",
    "for camera_number in range(1,3):\n",
    "    # Creates and uploads cam01_volume.mp4, cam0N_volume.mp4 etc.\n",
    "    input_video_file = Path(f'data/input_videos/cam0{camera_number}_calib.mp4')\n",
    "    ugc_file = client.create_files(input_video_file)\n",
    "    sources.append(\n",
    "        SourceIn(\n",
    "            device_label=f\"cam0{camera_number}\",\n",
    "            file_id=ugc_file,\n",
    "            format=\"MP4\",\n",
    "            camera_settings={\n",
    "                \"lens\": \"goprohero10-fhd\",\n",
    "            }\n",
    "        )\n",
    "    )"
   ]
  },
  {
   "cell_type": "markdown",
   "id": "51ee6405-3903-47b1-b612-50962fef889d",
   "metadata": {},
   "source": [
    "## 2. Create volume and wait for it to be processed"
   ]
  },
  {
   "cell_type": "code",
   "execution_count": 47,
   "id": "cd86510d-3ea0-4601-bc59-b59f15433b9c",
   "metadata": {},
   "outputs": [
    {
     "name": "stdout",
     "output_type": "stream",
     "text": [
      "[2024-10-07T17:03:16.378060 | 0] Volume volume-43968e7e-5141-468d-81e5-c13a43dac5a8 is RUNNING\n",
      "[2024-10-07T17:03:47.717917 | 1] Volume volume-43968e7e-5141-468d-81e5-c13a43dac5a8 is RUNNING\n",
      "[2024-10-07T17:04:18.532382 | 2] Volume volume-43968e7e-5141-468d-81e5-c13a43dac5a8 is RUNNING\n",
      "[2024-10-07T17:04:49.385753 | 3] Volume volume-43968e7e-5141-468d-81e5-c13a43dac5a8 is RUNNING\n",
      "[2024-10-07T17:05:20.283078 | 4] Volume volume-43968e7e-5141-468d-81e5-c13a43dac5a8 is RUNNING\n",
      "[2024-10-07T17:05:51.382649 | 5] Volume volume-43968e7e-5141-468d-81e5-c13a43dac5a8 is FINISHED\n",
      "Volume is processed successfully, please proceed to job creation\n"
     ]
    }
   ],
   "source": [
    "volume = client.create_volume(sources=sources, human_height=1.77, name=\"Test volume\")\n",
    "# Poll the volume until it is finished processing\n",
    "attempts = 0\n",
    "\n",
    "while attempts < 100:\n",
    "    volume = client.get_volume(volume.id)\n",
    "    update_str = f\"[{datetime.now().isoformat()} | {attempts}] Volume {volume.id} is {volume.state}\"\n",
    "    print(update_str)\n",
    "    if volume.state == 'FINISHED':\n",
    "        print(\"Volume is processed successfully, please proceed to job creation\")\n",
    "        break\n",
    "    else:\n",
    "        time.sleep(30)\n",
    "        attempts += 1"
   ]
  },
  {
   "cell_type": "markdown",
   "id": "e30fd415-02d8-4da1-bb21-346266d1db5a",
   "metadata": {},
   "source": [
    "# Create a multicam take"
   ]
  },
  {
   "cell_type": "markdown",
   "id": "e0f1f902-e2e1-43c3-a105-a9e816fd6e8f",
   "metadata": {},
   "source": [
    "## 1. Create required video files for multicam take"
   ]
  },
  {
   "cell_type": "code",
   "execution_count": 48,
   "id": "8ca43f9c-e68c-474b-adfb-96fb37497d93",
   "metadata": {},
   "outputs": [],
   "source": [
    "sources = []\n",
    "for camera_number in range(1,3):\n",
    "    # Creates and uploads cam01_volume.mp4, cam0N_volume.mp4 etc.\n",
    "    input_video_file = Path(f'data/input_videos/cam0{camera_number}_action.mp4')\n",
    "    ugc_file = client.create_files(input_video_file)\n",
    "    sources.append(\n",
    "        SourceIn(\n",
    "            device_label=f\"cam0{camera_number}\",\n",
    "            file_id=ugc_file,\n",
    "            format=\"MP4\",\n",
    "            camera_settings={\n",
    "                \"lens\": \"goprohero10-fhd\",\n",
    "            }\n",
    "        )\n",
    "    )"
   ]
  },
  {
   "cell_type": "markdown",
   "id": "862c3ee3-9736-4546-9a6f-216a1c7340fa",
   "metadata": {},
   "source": [
    "## 2. Create a multicam take"
   ]
  },
  {
   "cell_type": "code",
   "execution_count": 49,
   "id": "8a404837-c1f4-4f70-a334-2804809da5a1",
   "metadata": {},
   "outputs": [],
   "source": [
    "take_id = client.create_take(\n",
    "    sources, \n",
    "    volume_id=volume.id, \n",
    "    sync_method=SyncMethodInput(\n",
    "        clap_window={\n",
    "            \"start_time\": 2,\n",
    "            \"end_time\": 4,\n",
    "        },\n",
    "    ),\n",
    "    name=\"Test take\"\n",
    ")"
   ]
  },
  {
   "cell_type": "markdown",
   "id": "82fd0a2a-68df-4a29-af95-248942a98230",
   "metadata": {},
   "source": [
    "## 3. Create a multicam job"
   ]
  },
  {
   "cell_type": "code",
   "execution_count": 50,
   "id": "272ee48b-f4ec-41b8-b963-b66656fb6bc4",
   "metadata": {},
   "outputs": [],
   "source": [
    "job = client.create_job(take_id=take_id, number_of_actors=1, name=\"Test job\")"
   ]
  },
  {
   "cell_type": "markdown",
   "id": "05ba154f-6d68-43cd-ac32-ceb4cfea4edc",
   "metadata": {},
   "source": [
    "## 4. Wait until the job is finished and get the outputs"
   ]
  },
  {
   "cell_type": "code",
   "execution_count": 51,
   "id": "4af79bfd-4d56-4842-bcdf-321afe9c840d",
   "metadata": {},
   "outputs": [
    {
     "name": "stdout",
     "output_type": "stream",
     "text": [
      "[2024-10-07T17:06:22.237643 | 0] Job job-bc44cdba-6ac8-4dc0-a9ec-4494986c7144 is RUNNING\n",
      "[2024-10-07T17:06:52.953168 | 1] Job job-bc44cdba-6ac8-4dc0-a9ec-4494986c7144 is RUNNING\n",
      "[2024-10-07T17:07:23.779433 | 2] Job job-bc44cdba-6ac8-4dc0-a9ec-4494986c7144 is RUNNING\n",
      "[2024-10-07T17:07:54.395680 | 3] Job job-bc44cdba-6ac8-4dc0-a9ec-4494986c7144 is RUNNING\n",
      "[2024-10-07T17:08:25.422643 | 4] Job job-bc44cdba-6ac8-4dc0-a9ec-4494986c7144 is RUNNING\n",
      "[2024-10-07T17:08:55.974503 | 5] Job job-bc44cdba-6ac8-4dc0-a9ec-4494986c7144 is RUNNING\n",
      "[2024-10-07T17:09:26.656823 | 6] Job job-bc44cdba-6ac8-4dc0-a9ec-4494986c7144 is RUNNING\n",
      "[2024-10-07T17:09:57.278859 | 7] Job job-bc44cdba-6ac8-4dc0-a9ec-4494986c7144 is RUNNING\n",
      "[2024-10-07T17:10:27.891841 | 8] Job job-bc44cdba-6ac8-4dc0-a9ec-4494986c7144 is RUNNING\n",
      "[2024-10-07T17:10:58.536273 | 9] Job job-bc44cdba-6ac8-4dc0-a9ec-4494986c7144 is RUNNING\n",
      "[2024-10-07T17:11:29.135036 | 10] Job job-bc44cdba-6ac8-4dc0-a9ec-4494986c7144 is RUNNING\n",
      "[2024-10-07T17:11:59.744341 | 11] Job job-bc44cdba-6ac8-4dc0-a9ec-4494986c7144 is RUNNING\n",
      "[2024-10-07T17:12:30.365905 | 12] Job job-bc44cdba-6ac8-4dc0-a9ec-4494986c7144 is RUNNING\n",
      "[2024-10-07T17:13:01.082100 | 13] Job job-bc44cdba-6ac8-4dc0-a9ec-4494986c7144 is RUNNING\n",
      "[2024-10-07T17:13:31.804726 | 14] Job job-bc44cdba-6ac8-4dc0-a9ec-4494986c7144 is RUNNING\n",
      "[2024-10-07T17:14:02.523923 | 15] Job job-bc44cdba-6ac8-4dc0-a9ec-4494986c7144 is RUNNING\n",
      "[2024-10-07T17:14:33.169789 | 16] Job job-bc44cdba-6ac8-4dc0-a9ec-4494986c7144 is RUNNING\n",
      "[2024-10-07T17:15:03.963075 | 17] Job job-bc44cdba-6ac8-4dc0-a9ec-4494986c7144 is RUNNING\n",
      "[2024-10-07T17:15:34.598087 | 18] Job job-bc44cdba-6ac8-4dc0-a9ec-4494986c7144 is RUNNING\n",
      "[2024-10-07T17:16:05.504759 | 19] Job job-bc44cdba-6ac8-4dc0-a9ec-4494986c7144 is RUNNING\n",
      "[2024-10-07T17:16:36.330634 | 20] Job job-bc44cdba-6ac8-4dc0-a9ec-4494986c7144 is RUNNING\n",
      "[2024-10-07T17:17:06.945799 | 21] Job job-bc44cdba-6ac8-4dc0-a9ec-4494986c7144 is RUNNING\n",
      "[2024-10-07T17:17:37.677216 | 22] Job job-bc44cdba-6ac8-4dc0-a9ec-4494986c7144 is RUNNING\n",
      "[2024-10-07T17:18:08.590102 | 23] Job job-bc44cdba-6ac8-4dc0-a9ec-4494986c7144 is RUNNING\n",
      "[2024-10-07T17:18:39.452042 | 24] Job job-bc44cdba-6ac8-4dc0-a9ec-4494986c7144 is RUNNING\n",
      "[2024-10-07T17:19:10.134062 | 25] Job job-bc44cdba-6ac8-4dc0-a9ec-4494986c7144 is RUNNING\n",
      "[2024-10-07T17:19:40.854681 | 26] Job job-bc44cdba-6ac8-4dc0-a9ec-4494986c7144 is FINISHED\n",
      "Outputs downloaded to data/output\n",
      "Output files: ['data/output/cam02_action.mp4', 'data/output/cam02_action.usdz', 'data/output/cam02_action.usdc', 'data/output/cam02_action.zip', 'data/output/cam02_action.fbx', 'data/output/cam02_action.blend']\n"
     ]
    }
   ],
   "source": [
    "# Poll the job until it is finished\n",
    "attempts = 0\n",
    "output_dir = Path('data/output')\n",
    "while attempts < 100:\n",
    "    job = client.get_job(job.id)\n",
    "    update_str = f\"[{datetime.now().isoformat()} | {attempts}] Job {job.id} is {job.state}\"\n",
    "    print(update_str)\n",
    "    if job.state == 'FINISHED':\n",
    "        outputs = client.download_outputs(job.id, output_dir, input_video_file.stem)\n",
    "        print(f\"Outputs downloaded to {output_dir}\")\n",
    "        print(f\"Output files: {outputs}\")\n",
    "        break\n",
    "    else:\n",
    "        time.sleep(30)\n",
    "        attempts += 1"
   ]
  },
  {
   "cell_type": "code",
   "execution_count": null,
   "id": "777294cd-e1a7-433b-9da6-7c12d01e5103",
   "metadata": {},
   "outputs": [],
   "source": []
  }
 ],
 "metadata": {
  "kernelspec": {
   "display_name": "Python 3 (ipykernel)",
   "language": "python",
   "name": "python3"
  },
  "language_info": {
   "codemirror_mode": {
    "name": "ipython",
    "version": 3
   },
   "file_extension": ".py",
   "mimetype": "text/x-python",
   "name": "python",
   "nbconvert_exporter": "python",
   "pygments_lexer": "ipython3",
   "version": "3.11.10"
  }
 },
 "nbformat": 4,
 "nbformat_minor": 5
}
