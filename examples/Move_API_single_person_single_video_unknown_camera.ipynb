{
 "cells": [
  {
   "cell_type": "markdown",
   "id": "889c1b69-0994-4662-be9c-46716d53a7fd",
   "metadata": {},
   "source": [
    "# Generate 3D animation data of a single person from a single video from an unknown camera"
   ]
  },
  {
   "cell_type": "markdown",
   "id": "9ad2721b1082b78c",
   "metadata": {},
   "source": [
    "## Prerequisites"
   ]
  },
  {
   "cell_type": "code",
   "execution_count": null,
   "id": "e930b3cd7e9650d8",
   "metadata": {},
   "outputs": [],
   "source": [
    "%pip install move-ugc-python;"
   ]
  },
  {
   "cell_type": "markdown",
   "id": "b6dffa9fec6e92f3",
   "metadata": {},
   "source": [
    "## Imports"
   ]
  },
  {
   "cell_type": "code",
   "execution_count": 5,
   "id": "d2a7342384c2b31a",
   "metadata": {},
   "outputs": [],
   "source": [
    "from datetime import datetime\n",
    "import os\n",
    "from pathlib import Path\n",
    "import time\n",
    "import requests\n",
    "from move_ugc import MoveUgc\n",
    "from move_ugc.schemas.sources import SourceIn\n"
   ]
  },
  {
   "cell_type": "markdown",
   "id": "28520c93e2e41b6f",
   "metadata": {},
   "source": [
    "## API class"
   ]
  },
  {
   "cell_type": "code",
   "execution_count": 6,
   "id": "aa36770a2c17e24e",
   "metadata": {},
   "outputs": [],
   "source": [
    "class MoveAI:\n",
    "    def __init__(self, api_key, endpoint_url=None):\n",
    "        self.api_key = api_key\n",
    "        if endpoint_url is None:\n",
    "            endpoint_url = 'https://api.move.ai/ugc/graphql'\n",
    "        self.endpoint_url = endpoint_url\n",
    "        self.client = MoveUgc(api_key=api_key, endpoint_url=endpoint_url)\n",
    "\n",
    "    def create_files(self, video_path):\n",
    "        video_file = self.client.files.create(file_type=\"mp4\")\n",
    "\n",
    "        with open(video_path, 'rb') as f:\n",
    "            requests.put(video_file.presigned_url, data=f.read())\n",
    "\n",
    "        return video_file.id\n",
    "\n",
    "    def create_take(self, video_file_id,  device_label, format, metadata=None):\n",
    "        if metadata is None:\n",
    "            metadata = {\"test\": \"test\"}\n",
    "        take = self.client.takes.create_singlecam(\n",
    "            sources=[SourceIn(file_id=video_file_id, device_label=device_label, format=format)],\n",
    "            metadata=metadata,\n",
    "        )\n",
    "        return take\n",
    "\n",
    "    def get_take(self, take_id):\n",
    "        take = self.client.takes.retrieve(id=take_id)\n",
    "        return take\n",
    "\n",
    "    def create_job(self, take_id):\n",
    "        job = self.client.jobs.create_singlecam(take_id=take_id, metadata={\"test\": \"test_job\"})\n",
    "        return job\n",
    "\n",
    "    def get_job(self, job_id, expand=False):\n",
    "        # Get a job using the Move One Public API\n",
    "        # Implement job retrieval logic using move_ugc_python SDK\n",
    "        if expand is False:\n",
    "            job = self.client.jobs.retrieve(id=job_id)\n",
    "        else:\n",
    "            job = self.client.jobs.retrieve(\n",
    "                id=job_id, expand=[\"take\", \"outputs\", \"client\"]\n",
    "            )\n",
    "        return job\n",
    "\n",
    "    def download_outputs(self, job_id, output_dir, output_name):\n",
    "        # make output dir if it doesn't exist\n",
    "        if not os.path.exists(output_dir):\n",
    "            os.makedirs(output_dir)\n",
    "        # get job\n",
    "        job = self.get_job(job_id, expand=True)\n",
    "        # for each output download the file in the output_dir\n",
    "        output_paths = []\n",
    "        for output in job.outputs:\n",
    "            output_file_name = f\"{output_name}{output.file.type}\"\n",
    "            output_path = os.path.join(output_dir, output_file_name)\n",
    "            with open(output_path, 'wb') as f:\n",
    "                response = requests.get(output.file.presigned_url)\n",
    "                f.write(response.content)\n",
    "            output_paths.append(output_path)\n",
    "        return output_paths\n"
   ]
  },
  {
   "cell_type": "markdown",
   "id": "6bae2bc7-7ae0-466a-a716-0f6cc7b44f7c",
   "metadata": {},
   "source": [
    "## Run"
   ]
  },
  {
   "cell_type": "code",
   "execution_count": 4,
   "id": "0a9bb0a2-0ff7-4b9e-b403-46c84d5b8d1d",
   "metadata": {},
   "outputs": [],
   "source": [
    "# Initialize the MoveAI client, make sure to set the MOVE_API_KEY environment variable or pass it as an argument\n",
    "client = MoveAI(os.environ.get('MOVE_API_KEY', '<Your Move AI API key if it is not set as environment variable>'))\n",
    "\n",
    "if not client.api_key or client.api_key == '<Your Move AI API key if it is not set as environment variable>':\n",
    "    raise ValueError('Please set the MOVE_API_KEY environment variable or pass it as an argument to MoveAI')\n",
    "\n",
    "# Set the path to the video file and output directory\n",
    "input_video_file = Path('data/input_videos/example.mp4')\n",
    "output_dir = Path('data/output')\n",
    "\n",
    "# Upload the video file to MoveAI\n",
    "video_file_id = client.create_files(input_video_file)\n",
    "device_label = \"human-readable-device-label\"\n",
    "# The format of the video file created above\n",
    "format = \"MP4\"\n",
    "# Create a take based on the id of the uploaded video and start the job\n",
    "take = client.create_take(video_file_id, device_label, format)\n",
    "job = client.create_job(take.id)"
   ]
  },
  {
   "cell_type": "code",
   "execution_count": 7,
   "id": "b3aff627-fbf6-4498-a02f-a29d7f539e5c",
   "metadata": {},
   "outputs": [
    {
     "name": "stdout",
     "output_type": "stream",
     "text": [
      "[2025-02-14T17:14:09.477755 | 0] Job job-d87b8514-dba4-4111-bae0-045652a0dfad is FINISHED\n",
      "Outputs downloaded to data\\output\n",
      "Output files: ['data\\\\output\\\\example.mp4', 'data\\\\output\\\\example.usdz', 'data\\\\output\\\\example.mp4', 'data\\\\output\\\\example.blend', 'data\\\\output\\\\example.usdc', 'data\\\\output\\\\example.zip', 'data\\\\output\\\\example.fbx']\n"
     ]
    }
   ],
   "source": [
    "# Poll the job until it is finished\n",
    "attempts = 0\n",
    "\n",
    "while attempts < 100:\n",
    "    job = client.get_job(job.id)\n",
    "    update_str = f\"[{datetime.now().isoformat()} | {attempts}] Job {job.id} is {job.state}\"\n",
    "    print(update_str)\n",
    "    if job.state == 'FINISHED':\n",
    "        outputs = client.download_outputs(job.id, output_dir, input_video_file.stem)\n",
    "        print(f\"Outputs downloaded to {output_dir}\")\n",
    "        print(f\"Output files: {outputs}\")\n",
    "        break\n",
    "    else:\n",
    "        time.sleep(30)\n",
    "        attempts += 1"
   ]
  },
  {
   "cell_type": "code",
   "execution_count": 8,
   "id": "7ea116a6ffbeccca",
   "metadata": {},
   "outputs": [
    {
     "data": {
      "text/html": [
       "<video src=\"data\\output\\example.mp4\" controls  >\n",
       "      Your browser does not support the <code>video</code> element.\n",
       "    </video>"
      ],
      "text/plain": [
       "<IPython.core.display.Video object>"
      ]
     },
     "execution_count": 8,
     "metadata": {},
     "output_type": "execute_result"
    }
   ],
   "source": [
    "# play the generated video\n",
    "from IPython.display import Video\n",
    "Video(outputs[0])"
   ]
  },
  {
   "cell_type": "code",
   "execution_count": null,
   "id": "ce3d6124",
   "metadata": {},
   "outputs": [],
   "source": []
  }
 ],
 "metadata": {
  "kernelspec": {
   "display_name": "Python 3 (ipykernel)",
   "language": "python",
   "name": "python3"
  },
  "language_info": {
   "codemirror_mode": {
    "name": "ipython",
    "version": 3
   },
   "file_extension": ".py",
   "mimetype": "text/x-python",
   "name": "python",
   "nbconvert_exporter": "python",
   "pygments_lexer": "ipython3",
   "version": "3.11.5"
  }
 },
 "nbformat": 4,
 "nbformat_minor": 5
}
