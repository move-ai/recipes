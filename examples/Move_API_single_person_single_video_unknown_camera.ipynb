{
 "cells": [
  {
   "cell_type": "markdown",
   "id": "889c1b69-0994-4662-be9c-46716d53a7fd",
   "metadata": {},
   "source": [
    "# Generate 3D animation data of a single person from a single video from an unknown camera"
   ]
  },
  {
   "cell_type": "markdown",
   "metadata": {},
   "source": [
    "## Prerequisites"
   ]
  },
  {
   "cell_type": "code",
   "execution_count": 2,
   "metadata": {},
   "outputs": [
    {
     "name": "stdout",
     "output_type": "stream",
     "text": [
      "Collecting move-ugc-python\n",
      "  Using cached move_ugc_python-0.9.1-py3-none-any.whl (22 kB)\n",
      "Collecting gql[requests]<4.0.0,>=3.4.1 (from move-ugc-python)\n",
      "  Using cached gql-3.5.0-py2.py3-none-any.whl (74 kB)\n",
      "Collecting pydantic<3.0.0,>=2.5.3 (from move-ugc-python)\n",
      "  Using cached pydantic-2.7.4-py3-none-any.whl (409 kB)\n",
      "Collecting pydantic-settings<3.0.0,>=2.0.0 (from move-ugc-python)\n",
      "  Using cached pydantic_settings-2.3.3-py3-none-any.whl (22 kB)\n",
      "Collecting graphql-core<3.3,>=3.2 (from gql[requests]<4.0.0,>=3.4.1->move-ugc-python)\n",
      "  Using cached graphql_core-3.2.3-py3-none-any.whl (202 kB)\n",
      "Requirement already satisfied: yarl<2.0,>=1.6 in /home/dene/anaconda3/envs/motion-4/lib/python3.8/site-packages (from gql[requests]<4.0.0,>=3.4.1->move-ugc-python) (1.6.3)\n",
      "Collecting backoff<3.0,>=1.11.1 (from gql[requests]<4.0.0,>=3.4.1->move-ugc-python)\n",
      "  Using cached backoff-2.2.1-py3-none-any.whl (15 kB)\n",
      "Collecting anyio<5,>=3.0 (from gql[requests]<4.0.0,>=3.4.1->move-ugc-python)\n",
      "  Using cached anyio-4.4.0-py3-none-any.whl (86 kB)\n",
      "Collecting requests<3,>=2.26 (from gql[requests]<4.0.0,>=3.4.1->move-ugc-python)\n",
      "  Downloading requests-2.32.3-py3-none-any.whl (64 kB)\n",
      "\u001b[2K     \u001b[38;2;114;156;31m━━━━━━━━━━━━━━━━━━━━━━━━━━━━━━━━━━━━━━━\u001b[0m \u001b[32m64.9/64.9 kB\u001b[0m \u001b[31m875.6 kB/s\u001b[0m eta \u001b[36m0:00:00\u001b[0m31m1.6 MB/s\u001b[0m eta \u001b[36m0:00:01\u001b[0m\n",
      "\u001b[?25hCollecting requests-toolbelt<2,>=1.0.0 (from gql[requests]<4.0.0,>=3.4.1->move-ugc-python)\n",
      "  Using cached requests_toolbelt-1.0.0-py2.py3-none-any.whl (54 kB)\n",
      "Requirement already satisfied: annotated-types>=0.4.0 in /home/dene/anaconda3/envs/motion-4/lib/python3.8/site-packages (from pydantic<3.0.0,>=2.5.3->move-ugc-python) (0.6.0)\n",
      "Collecting pydantic-core==2.18.4 (from pydantic<3.0.0,>=2.5.3->move-ugc-python)\n",
      "  Downloading pydantic_core-2.18.4-cp38-cp38-manylinux_2_17_x86_64.manylinux2014_x86_64.whl (2.0 MB)\n",
      "\u001b[2K     \u001b[38;2;114;156;31m━━━━━━━━━━━━━━━━━━━━━━━━━━━━━━━━━━━━━━━━\u001b[0m \u001b[32m2.0/2.0 MB\u001b[0m \u001b[31m1.9 MB/s\u001b[0m eta \u001b[36m0:00:00\u001b[0mm eta \u001b[36m0:00:01\u001b[0m0:01\u001b[0m:01\u001b[0m\n",
      "\u001b[?25hRequirement already satisfied: typing-extensions>=4.6.1 in /home/dene/anaconda3/envs/motion-4/lib/python3.8/site-packages (from pydantic<3.0.0,>=2.5.3->move-ugc-python) (4.10.0)\n",
      "Collecting python-dotenv>=0.21.0 (from pydantic-settings<3.0.0,>=2.0.0->move-ugc-python)\n",
      "  Using cached python_dotenv-1.0.1-py3-none-any.whl (19 kB)\n",
      "Requirement already satisfied: idna>=2.8 in /home/dene/anaconda3/envs/motion-4/lib/python3.8/site-packages (from anyio<5,>=3.0->gql[requests]<4.0.0,>=3.4.1->move-ugc-python) (3.4)\n",
      "Collecting sniffio>=1.1 (from anyio<5,>=3.0->gql[requests]<4.0.0,>=3.4.1->move-ugc-python)\n",
      "  Using cached sniffio-1.3.1-py3-none-any.whl (10 kB)\n",
      "Collecting exceptiongroup>=1.0.2 (from anyio<5,>=3.0->gql[requests]<4.0.0,>=3.4.1->move-ugc-python)\n",
      "  Downloading exceptiongroup-1.2.1-py3-none-any.whl (16 kB)\n",
      "Requirement already satisfied: charset-normalizer<4,>=2 in /home/dene/anaconda3/envs/motion-4/lib/python3.8/site-packages (from requests<3,>=2.26->gql[requests]<4.0.0,>=3.4.1->move-ugc-python) (3.3.2)\n",
      "Requirement already satisfied: urllib3<3,>=1.21.1 in /home/dene/anaconda3/envs/motion-4/lib/python3.8/site-packages (from requests<3,>=2.26->gql[requests]<4.0.0,>=3.4.1->move-ugc-python) (1.26.15)\n",
      "Requirement already satisfied: certifi>=2017.4.17 in /home/dene/anaconda3/envs/motion-4/lib/python3.8/site-packages (from requests<3,>=2.26->gql[requests]<4.0.0,>=3.4.1->move-ugc-python) (2023.5.7)\n",
      "Requirement already satisfied: multidict>=4.0 in /home/dene/anaconda3/envs/motion-4/lib/python3.8/site-packages (from yarl<2.0,>=1.6->gql[requests]<4.0.0,>=3.4.1->move-ugc-python) (4.7.5)\n",
      "\u001b[33mWARNING: Error parsing requirements for numpy: [Errno 2] No such file or directory: '/home/dene/anaconda3/envs/motion-4/lib/python3.8/site-packages/numpy-1.19.2.dist-info/METADATA'\u001b[0m\u001b[33m\n",
      "\u001b[0mInstalling collected packages: sniffio, requests, python-dotenv, pydantic-core, graphql-core, exceptiongroup, backoff, requests-toolbelt, pydantic, anyio, pydantic-settings, gql, move-ugc-python\n",
      "  Attempting uninstall: requests\n",
      "    Found existing installation: requests 2.24.0\n",
      "    Uninstalling requests-2.24.0:\n",
      "      Successfully uninstalled requests-2.24.0\n",
      "  Attempting uninstall: pydantic-core\n",
      "    Found existing installation: pydantic_core 2.10.1\n",
      "    Uninstalling pydantic_core-2.10.1:\n",
      "      Successfully uninstalled pydantic_core-2.10.1\n",
      "  Attempting uninstall: backoff\n",
      "    Found existing installation: backoff 1.10.0\n",
      "    Uninstalling backoff-1.10.0:\n",
      "      Successfully uninstalled backoff-1.10.0\n",
      "\u001b[31mERROR: pip's dependency resolver does not currently take into account all the packages that are installed. This behaviour is the source of the following dependency conflicts.\n",
      "moviepy 1.0.3 requires numpy; python_version >= \"2.7\", which is not installed.\n",
      "moviepy 1.0.3 requires numpy>=1.17.3; python_version != \"2.7\", which is not installed.\n",
      "tb-nightly 2.5.0a20201120 requires numpy>=1.12.0, which is not installed.\n",
      "tensorboard 2.11.0 requires numpy>=1.12.0, which is not installed.\n",
      "tensorflow 2.4.1 requires numpy~=1.19.2, which is not installed.\n",
      "torchvision 0.14.0 requires numpy, which is not installed.\n",
      "yolov5 6.2.0 requires numpy>=1.18.5, which is not installed.\n",
      "labelbox 2.4.6 requires backoff==1.10.0, but you have backoff 2.2.1 which is incompatible.\n",
      "sahi 0.11.4 requires click==8.0.4, but you have click 8.1.3 which is incompatible.\n",
      "tensorflow 2.4.1 requires absl-py~=0.10, but you have absl-py 0.8.1 which is incompatible.\n",
      "tensorflow 2.4.1 requires flatbuffers~=1.12.0, but you have flatbuffers 23.5.26 which is incompatible.\n",
      "tensorflow 2.4.1 requires gast==0.3.3, but you have gast 0.2.2 which is incompatible.\n",
      "tensorflow 2.4.1 requires google-pasta~=0.2, but you have google-pasta 0.1.8 which is incompatible.\n",
      "tensorflow 2.4.1 requires grpcio~=1.32.0, but you have grpcio 1.33.2 which is incompatible.\n",
      "tensorflow 2.4.1 requires keras-preprocessing~=1.1.2, but you have keras-preprocessing 1.1.0 which is incompatible.\n",
      "tensorflow 2.4.1 requires opt-einsum~=3.3.0, but you have opt-einsum 3.1.0 which is incompatible.\n",
      "tensorflow 2.4.1 requires tensorflow-estimator<2.5.0,>=2.4.0, but you have tensorflow-estimator 2.5.0 which is incompatible.\n",
      "tensorflow 2.4.1 requires typing-extensions~=3.7.4, but you have typing-extensions 4.10.0 which is incompatible.\n",
      "tensorflow 2.4.1 requires wrapt~=1.12.1, but you have wrapt 1.11.2 which is incompatible.\u001b[0m\u001b[31m\n",
      "\u001b[0mSuccessfully installed anyio-4.4.0 backoff-2.2.1 exceptiongroup-1.2.1 gql-3.5.0 graphql-core-3.2.3 move-ugc-python-0.9.1 pydantic-2.7.4 pydantic-core-2.18.4 pydantic-settings-2.3.3 python-dotenv-1.0.1 requests-2.31.0 requests-toolbelt-1.0.0 sniffio-1.3.1\n",
      "\n",
      "\u001b[1m[\u001b[0m\u001b[34;49mnotice\u001b[0m\u001b[1;39;49m]\u001b[0m\u001b[39;49m A new release of pip is available: \u001b[0m\u001b[31;49m23.0\u001b[0m\u001b[39;49m -> \u001b[0m\u001b[32;49m24.0\u001b[0m\n",
      "\u001b[1m[\u001b[0m\u001b[34;49mnotice\u001b[0m\u001b[1;39;49m]\u001b[0m\u001b[39;49m To update, run: \u001b[0m\u001b[32;49mpip install --upgrade pip\u001b[0m\n",
      "Note: you may need to restart the kernel to use updated packages.\n"
     ]
    }
   ],
   "source": [
    "%pip install move-ugc-python"
   ]
  },
  {
   "cell_type": "markdown",
   "metadata": {},
   "source": [
    "## Imports"
   ]
  },
  {
   "cell_type": "code",
   "execution_count": 3,
   "metadata": {},
   "outputs": [],
   "source": [
    "from datetime import datetime\n",
    "import os\n",
    "from pathlib import Path\n",
    "import time\n",
    "import requests\n",
    "from move_ugc import MoveUgc"
   ]
  },
  {
   "cell_type": "markdown",
   "metadata": {},
   "source": [
    "## API class"
   ]
  },
  {
   "cell_type": "code",
   "execution_count": 10,
   "metadata": {},
   "outputs": [],
   "source": [
    "class MoveAI:\n",
    "    def __init__(self, api_key, endpoint_url=None):\n",
    "        self.api_key = api_key\n",
    "        if endpoint_url is None:\n",
    "            endpoint_url = 'https://api.move.ai/ugc/graphql'\n",
    "        self.endpoint_url = endpoint_url\n",
    "        self.client = MoveUgc(api_key=api_key, endpoint_url=endpoint_url)\n",
    "\n",
    "    def create_files(self, video_path):\n",
    "        video_file = self.client.files.create(file_type=\"mp4\")\n",
    "\n",
    "        with open(video_path, 'rb') as f:\n",
    "            requests.put(video_file.presigned_url, data=f.read())\n",
    "\n",
    "        return video_file.id\n",
    "\n",
    "    def create_take(self, video_file_id,  metadata=None):\n",
    "        if metadata is None:\n",
    "            metadata = {\"test\": \"test\"}\n",
    "        take = self.client.takes.create(\n",
    "            video_file_id=video_file_id,\n",
    "            metadata=metadata,\n",
    "        )\n",
    "        return take\n",
    "\n",
    "    def get_take(self, take_id):\n",
    "        take = self.client.takes.retrieve(id=take_id)\n",
    "        return take\n",
    "\n",
    "    def create_job(self, take_id):\n",
    "        job = self.client.jobs.create(take_id=take_id, metadata={\"test\": \"test_job\"})\n",
    "        return job\n",
    "\n",
    "    def get_job(self, job_id, expand=False):\n",
    "        # Get a job using the Move One Public API\n",
    "        # Implement job retrieval logic using move_ugc_python SDK\n",
    "        if expand is False:\n",
    "            job = self.client.jobs.retrieve(id=job_id)\n",
    "        else:\n",
    "            job = self.client.jobs.retrieve(\n",
    "                id=job_id, expand=[\"take\", \"outputs\", \"client\"]\n",
    "            )\n",
    "        return job\n",
    "\n",
    "    def download_outputs(self, job_id, output_dir, output_name):\n",
    "        # make output dir if it doesn't exist\n",
    "        if not os.path.exists(output_dir):\n",
    "            os.makedirs(output_dir)\n",
    "        # get job\n",
    "        job = self.get_job(job_id, expand=True)\n",
    "        # for each output download the file in the output_dir\n",
    "        output_paths = []\n",
    "        for output in job.outputs:\n",
    "            output_file_name = f\"{output_name}{output.file.type}\"\n",
    "            output_path = os.path.join(output_dir, output_file_name)\n",
    "            with open(output_path, 'wb') as f:\n",
    "                response = requests.get(output.file.presigned_url)\n",
    "                f.write(response.content)\n",
    "            output_paths.append(output_path)\n",
    "        return output_paths\n"
   ]
  },
  {
   "cell_type": "markdown",
   "id": "6bae2bc7-7ae0-466a-a716-0f6cc7b44f7c",
   "metadata": {},
   "source": [
    "## Run"
   ]
  },
  {
   "cell_type": "code",
   "execution_count": 25,
   "id": "0a9bb0a2-0ff7-4b9e-b403-46c84d5b8d1d",
   "metadata": {},
   "outputs": [],
   "source": [
    "# Initialize the MoveAI client, make sure to set the MOVE_API_KEY environment variable or pass it as an argument\n",
    "client = MoveAI(os.environ.get('MOVE_API_KEY', '<Your Move AI API key if it is not set as environment variable>'))\n",
    "\n",
    "if not client.api_key or client.api_key == '<Your Move AI API key if it is not set as environment variable>':\n",
    "    raise ValueError('Please set the MOVE_API_KEY environment variable or pass it as an argument to MoveAI')\n",
    "\n",
    "# Set the path to the video file and output directory\n",
    "input_video_file = Path('data/input_videos/example.mp4')\n",
    "output_dir = Path('data/output')\n",
    "\n",
    "# Upload the video file to MoveAI\n",
    "video_file_id = client.create_files(input_video_file)\n",
    "\n",
    "# Create a take based on the id of the uploaded video and start the job\n",
    "take = client.create_take(video_file_id)\n",
    "job = client.create_job(take.id)"
   ]
  },
  {
   "cell_type": "code",
   "execution_count": 28,
   "id": "b3aff627-fbf6-4498-a02f-a29d7f539e5c",
   "metadata": {},
   "outputs": [
    {
     "name": "stdout",
     "output_type": "stream",
     "text": [
      "[2024-06-19T19:45:10.148545 | 0] Job job-f61ef704-11b5-4444-8fa9-ca04aedda019 is FINISHED\n",
      "Outputs downloaded to data/output\n"
     ]
    }
   ],
   "source": [
    "# Poll the job until it is finished\n",
    "attempts = 0\n",
    "\n",
    "while attempts < 100:\n",
    "    job = client.get_job(job.id)\n",
    "    update_str = f\"[{datetime.now().isoformat()} | {attempts}] Job {job.id} is {job.state}\"\n",
    "    print(update_str)\n",
    "    if job.state == 'FINISHED':\n",
    "        outputs = client.download_outputs(job.id, output_dir, input_video_file.stem)\n",
    "        print(f\"Outputs downloaded to {output_dir}\")\n",
    "        print(f\"Output files: {outputs}\")\n",
    "        break\n",
    "    else:\n",
    "        time.sleep(30)\n",
    "        attempts += 1"
   ]
  },
  {
   "cell_type": "code",
   "execution_count": 29,
   "metadata": {},
   "outputs": [
    {
     "data": {
      "text/html": [
       "<video src=\"data/output/example.mp4\" controls  >\n",
       "      Your browser does not support the <code>video</code> element.\n",
       "    </video>"
      ],
      "text/plain": [
       "<IPython.core.display.Video object>"
      ]
     },
     "execution_count": 29,
     "metadata": {},
     "output_type": "execute_result"
    }
   ],
   "source": [
    "# play the generated video\n",
    "from IPython.display import Video\n",
    "Video(outputs[0])"
   ]
  }
 ],
 "metadata": {
  "kernelspec": {
   "display_name": "Python 3 (ipykernel)",
   "language": "python",
   "name": "python3"
  },
  "language_info": {
   "codemirror_mode": {
    "name": "ipython",
    "version": 3
   },
   "file_extension": ".py",
   "mimetype": "text/x-python",
   "name": "python",
   "nbconvert_exporter": "python",
   "pygments_lexer": "ipython3",
   "version": "3.8.2"
  }
 },
 "nbformat": 4,
 "nbformat_minor": 5
}
