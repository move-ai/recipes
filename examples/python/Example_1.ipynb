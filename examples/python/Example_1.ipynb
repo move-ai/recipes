{
 "cells": [
  {
   "cell_type": "markdown",
   "id": "889c1b69-0994-4662-be9c-46716d53a7fd",
   "metadata": {},
   "source": [
    "# Example 1: Generate 3D animation data of a single person from a single video from an unknown camera"
   ]
  },
  {
   "cell_type": "markdown",
   "id": "f96d91b3-878f-4cdc-8cda-e159cb5051ed",
   "metadata": {},
   "source": [
    "## Setup\n",
    "* Install the Move AI Python library if you haven't already (`pip install move-ugc-python`)\n",
    "* Download the [example input video](https://move-ai-recipes.nyc3.cdn.digitaloceanspaces.com/single_1.mp4), or add your own, to 'recipes/videos/single-cam/single_1.mp4'"
   ]
  },
  {
   "cell_type": "markdown",
   "id": "6bae2bc7-7ae0-466a-a716-0f6cc7b44f7c",
   "metadata": {},
   "source": [
    "## Run"
   ]
  },
  {
   "cell_type": "code",
   "execution_count": null,
   "id": "ff04ed6e-4f07-4733-9bd6-6d0fa153337f",
   "metadata": {},
   "outputs": [],
   "source": [
    "from datetime import datetime\n",
    "import os\n",
    "from pathlib import Path\n",
    "import time\n",
    "\n",
    "from utils.move_ai import MoveAI"
   ]
  },
  {
   "cell_type": "code",
   "execution_count": null,
   "id": "0a9bb0a2-0ff7-4b9e-b403-46c84d5b8d1d",
   "metadata": {},
   "outputs": [],
   "source": [
    "client = MoveAI(os.environ.get('MOVE_API_KEY', '<Your Move AI API key if it is not set as environment variable>'))\n",
    "video_file = Path('../../videos/single-cam/single_1.mp4')\n",
    "video_file_id = client.create_files(video_file)\n",
    "take = client.create_take(video_file_id)\n",
    "job = client.create_job(take.id)\n",
    "attempts = 0"
   ]
  },
  {
   "cell_type": "code",
   "execution_count": null,
   "id": "b3aff627-fbf6-4498-a02f-a29d7f539e5c",
   "metadata": {},
   "outputs": [],
   "source": [
    "while attempts < 100:\n",
    "    job = client.get_job(job.id)\n",
    "    update_str = f\"[{datetime.now().isoformat()} | {attempts}] Job {job.id} is {job.state}\"\n",
    "    print(update_str)\n",
    "    if job.state == 'FINISHED':\n",
    "        outputs = client.download_outputs(job.id, '../../output/', video_file.stem)\n",
    "        print(outputs)\n",
    "        break\n",
    "    else:\n",
    "        time.sleep(30)\n",
    "        attempts += 1"
   ]
  },
  {
   "cell_type": "markdown",
   "id": "74754c85-fd2e-49c3-9afa-1223b532c58e",
   "metadata": {},
   "source": [
    "Once complete, the following files will be saved to 'recipes/output/':\n",
    "* single_1.blend\n",
    "* single_1.fbx\n",
    "* single_1.mp4\n",
    "* single_1.usdc\n",
    "* single_1.usdz"
   ]
  }
 ],
 "metadata": {
  "kernelspec": {
   "display_name": "Python 3 (ipykernel)",
   "language": "python",
   "name": "python3"
  },
  "language_info": {
   "codemirror_mode": {
    "name": "ipython",
    "version": 3
   },
   "file_extension": ".py",
   "mimetype": "text/x-python",
   "name": "python",
   "nbconvert_exporter": "python",
   "pygments_lexer": "ipython3",
   "version": "3.9.6"
  }
 },
 "nbformat": 4,
 "nbformat_minor": 5
}
